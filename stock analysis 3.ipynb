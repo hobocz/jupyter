{
 "cells": [
  {
   "cell_type": "markdown",
   "id": "d59ed779-5fd2-463f-9f9d-52a2554514fb",
   "metadata": {},
   "source": [
    "# Stock data notebook 3 - continued"
   ]
  },
  {
   "cell_type": "code",
   "execution_count": 3,
   "id": "04ac58ac-42a1-46fa-a859-60a43d2c3351",
   "metadata": {},
   "outputs": [],
   "source": [
    "import numpy as np\n",
    "import pandas as pd\n",
    "from pandas import DataFrame\n",
    "import matplotlib.pyplot as plt\n",
    "import seaborn as sns\n",
    "sns.set_style(\"whitegrid\")"
   ]
  },
  {
   "cell_type": "markdown",
   "id": "eeccf0d1-7fa1-4f47-be8c-b9b6dde60619",
   "metadata": {},
   "source": [
    "### Read the data once again"
   ]
  },
  {
   "cell_type": "code",
   "execution_count": 5,
   "id": "3510e56b-4428-41b4-be0b-62e395d2aef3",
   "metadata": {},
   "outputs": [
    {
     "data": {
      "text/html": [
       "<div>\n",
       "<style scoped>\n",
       "    .dataframe tbody tr th:only-of-type {\n",
       "        vertical-align: middle;\n",
       "    }\n",
       "\n",
       "    .dataframe tbody tr th {\n",
       "        vertical-align: top;\n",
       "    }\n",
       "\n",
       "    .dataframe thead th {\n",
       "        text-align: right;\n",
       "    }\n",
       "</style>\n",
       "<table border=\"1\" class=\"dataframe\">\n",
       "  <thead>\n",
       "    <tr style=\"text-align: right;\">\n",
       "      <th></th>\n",
       "      <th>Date</th>\n",
       "      <th>Open</th>\n",
       "      <th>High</th>\n",
       "      <th>Low</th>\n",
       "      <th>Close</th>\n",
       "      <th>Adj Close</th>\n",
       "      <th>Volume</th>\n",
       "      <th>Stock</th>\n",
       "      <th>Daily Return</th>\n",
       "    </tr>\n",
       "  </thead>\n",
       "  <tbody>\n",
       "    <tr>\n",
       "      <th>1</th>\n",
       "      <td>2023-01-04</td>\n",
       "      <td>91.010002</td>\n",
       "      <td>91.239998</td>\n",
       "      <td>87.800003</td>\n",
       "      <td>88.709999</td>\n",
       "      <td>88.609169</td>\n",
       "      <td>27046500</td>\n",
       "      <td>GOOG</td>\n",
       "      <td>-1.103673</td>\n",
       "    </tr>\n",
       "    <tr>\n",
       "      <th>2</th>\n",
       "      <td>2023-01-05</td>\n",
       "      <td>88.070000</td>\n",
       "      <td>88.209999</td>\n",
       "      <td>86.559998</td>\n",
       "      <td>86.769997</td>\n",
       "      <td>86.671371</td>\n",
       "      <td>23136100</td>\n",
       "      <td>GOOG</td>\n",
       "      <td>-2.186905</td>\n",
       "    </tr>\n",
       "    <tr>\n",
       "      <th>3</th>\n",
       "      <td>2023-01-06</td>\n",
       "      <td>87.360001</td>\n",
       "      <td>88.470001</td>\n",
       "      <td>85.570000</td>\n",
       "      <td>88.160004</td>\n",
       "      <td>88.059799</td>\n",
       "      <td>26612600</td>\n",
       "      <td>GOOG</td>\n",
       "      <td>1.601945</td>\n",
       "    </tr>\n",
       "    <tr>\n",
       "      <th>4</th>\n",
       "      <td>2023-01-09</td>\n",
       "      <td>89.195000</td>\n",
       "      <td>90.830002</td>\n",
       "      <td>88.580002</td>\n",
       "      <td>88.800003</td>\n",
       "      <td>88.699066</td>\n",
       "      <td>22996700</td>\n",
       "      <td>GOOG</td>\n",
       "      <td>0.725946</td>\n",
       "    </tr>\n",
       "    <tr>\n",
       "      <th>5</th>\n",
       "      <td>2023-01-10</td>\n",
       "      <td>86.720001</td>\n",
       "      <td>89.474998</td>\n",
       "      <td>86.699997</td>\n",
       "      <td>89.239998</td>\n",
       "      <td>89.138565</td>\n",
       "      <td>22855600</td>\n",
       "      <td>GOOG</td>\n",
       "      <td>0.495495</td>\n",
       "    </tr>\n",
       "    <tr>\n",
       "      <th>...</th>\n",
       "      <td>...</td>\n",
       "      <td>...</td>\n",
       "      <td>...</td>\n",
       "      <td>...</td>\n",
       "      <td>...</td>\n",
       "      <td>...</td>\n",
       "      <td>...</td>\n",
       "      <td>...</td>\n",
       "      <td>...</td>\n",
       "    </tr>\n",
       "    <tr>\n",
       "      <th>245</th>\n",
       "      <td>2023-12-22</td>\n",
       "      <td>195.179993</td>\n",
       "      <td>195.410004</td>\n",
       "      <td>192.970001</td>\n",
       "      <td>193.600006</td>\n",
       "      <td>193.091385</td>\n",
       "      <td>37122800</td>\n",
       "      <td>AAPL</td>\n",
       "      <td>-0.554741</td>\n",
       "    </tr>\n",
       "    <tr>\n",
       "      <th>246</th>\n",
       "      <td>2023-12-26</td>\n",
       "      <td>193.610001</td>\n",
       "      <td>193.889999</td>\n",
       "      <td>192.830002</td>\n",
       "      <td>193.050003</td>\n",
       "      <td>192.542831</td>\n",
       "      <td>28919300</td>\n",
       "      <td>AAPL</td>\n",
       "      <td>-0.284090</td>\n",
       "    </tr>\n",
       "    <tr>\n",
       "      <th>247</th>\n",
       "      <td>2023-12-27</td>\n",
       "      <td>192.490005</td>\n",
       "      <td>193.500000</td>\n",
       "      <td>191.089996</td>\n",
       "      <td>193.149994</td>\n",
       "      <td>192.642548</td>\n",
       "      <td>48087700</td>\n",
       "      <td>AAPL</td>\n",
       "      <td>0.051790</td>\n",
       "    </tr>\n",
       "    <tr>\n",
       "      <th>248</th>\n",
       "      <td>2023-12-28</td>\n",
       "      <td>194.139999</td>\n",
       "      <td>194.660004</td>\n",
       "      <td>193.169998</td>\n",
       "      <td>193.580002</td>\n",
       "      <td>193.071426</td>\n",
       "      <td>34049900</td>\n",
       "      <td>AAPL</td>\n",
       "      <td>0.222629</td>\n",
       "    </tr>\n",
       "    <tr>\n",
       "      <th>249</th>\n",
       "      <td>2023-12-29</td>\n",
       "      <td>193.899994</td>\n",
       "      <td>194.399994</td>\n",
       "      <td>191.729996</td>\n",
       "      <td>192.529999</td>\n",
       "      <td>192.024185</td>\n",
       "      <td>42628800</td>\n",
       "      <td>AAPL</td>\n",
       "      <td>-0.542411</td>\n",
       "    </tr>\n",
       "  </tbody>\n",
       "</table>\n",
       "<p>996 rows × 9 columns</p>\n",
       "</div>"
      ],
      "text/plain": [
       "          Date        Open        High         Low       Close   Adj Close  \\\n",
       "1   2023-01-04   91.010002   91.239998   87.800003   88.709999   88.609169   \n",
       "2   2023-01-05   88.070000   88.209999   86.559998   86.769997   86.671371   \n",
       "3   2023-01-06   87.360001   88.470001   85.570000   88.160004   88.059799   \n",
       "4   2023-01-09   89.195000   90.830002   88.580002   88.800003   88.699066   \n",
       "5   2023-01-10   86.720001   89.474998   86.699997   89.239998   89.138565   \n",
       "..         ...         ...         ...         ...         ...         ...   \n",
       "245 2023-12-22  195.179993  195.410004  192.970001  193.600006  193.091385   \n",
       "246 2023-12-26  193.610001  193.889999  192.830002  193.050003  192.542831   \n",
       "247 2023-12-27  192.490005  193.500000  191.089996  193.149994  192.642548   \n",
       "248 2023-12-28  194.139999  194.660004  193.169998  193.580002  193.071426   \n",
       "249 2023-12-29  193.899994  194.399994  191.729996  192.529999  192.024185   \n",
       "\n",
       "       Volume Stock  Daily Return  \n",
       "1    27046500  GOOG     -1.103673  \n",
       "2    23136100  GOOG     -2.186905  \n",
       "3    26612600  GOOG      1.601945  \n",
       "4    22996700  GOOG      0.725946  \n",
       "5    22855600  GOOG      0.495495  \n",
       "..        ...   ...           ...  \n",
       "245  37122800  AAPL     -0.554741  \n",
       "246  28919300  AAPL     -0.284090  \n",
       "247  48087700  AAPL      0.051790  \n",
       "248  34049900  AAPL      0.222629  \n",
       "249  42628800  AAPL     -0.542411  \n",
       "\n",
       "[996 rows x 9 columns]"
      ]
     },
     "execution_count": 5,
     "metadata": {},
     "output_type": "execute_result"
    }
   ],
   "source": [
    "tech_stocks = [\"AAPL\", \"GOOG\", \"MSFT\", \"AMZN\"]\n",
    "for ticker in tech_stocks:\n",
    "    stock_df = pd.read_csv(f\"./data/stock_data_2023/{ticker}.csv\", parse_dates=[\"Date\"])\n",
    "    stock_df[\"Stock\"] = ticker\n",
    "    stock_df[\"Daily Return\"] = stock_df[\"Adj Close\"].pct_change() * 100\n",
    "    stock_df.dropna(inplace=True)\n",
    "    globals()[ticker] = stock_df\n",
    "all_stocks = pd.concat([GOOG, MSFT, AMZN, AAPL])\n",
    "all_stocks"
   ]
  },
  {
   "cell_type": "markdown",
   "id": "955f2e7e-66fe-40cc-8717-10a4a303e201",
   "metadata": {},
   "source": [
    "### Also recreate the DataFrame of just daily returns"
   ]
  },
  {
   "cell_type": "code",
   "execution_count": 7,
   "id": "52e62258-fc65-4a64-b3a2-109610b35371",
   "metadata": {},
   "outputs": [
    {
     "data": {
      "text/html": [
       "<div>\n",
       "<style scoped>\n",
       "    .dataframe tbody tr th:only-of-type {\n",
       "        vertical-align: middle;\n",
       "    }\n",
       "\n",
       "    .dataframe tbody tr th {\n",
       "        vertical-align: top;\n",
       "    }\n",
       "\n",
       "    .dataframe thead th {\n",
       "        text-align: right;\n",
       "    }\n",
       "</style>\n",
       "<table border=\"1\" class=\"dataframe\">\n",
       "  <thead>\n",
       "    <tr style=\"text-align: right;\">\n",
       "      <th>Stock</th>\n",
       "      <th>AAPL</th>\n",
       "      <th>AMZN</th>\n",
       "      <th>GOOG</th>\n",
       "      <th>MSFT</th>\n",
       "    </tr>\n",
       "  </thead>\n",
       "  <tbody>\n",
       "    <tr>\n",
       "      <th>1</th>\n",
       "      <td>1.031420</td>\n",
       "      <td>-0.792357</td>\n",
       "      <td>-1.103673</td>\n",
       "      <td>-4.374316</td>\n",
       "    </tr>\n",
       "    <tr>\n",
       "      <th>2</th>\n",
       "      <td>-1.060460</td>\n",
       "      <td>-2.372558</td>\n",
       "      <td>-2.186905</td>\n",
       "      <td>-2.963781</td>\n",
       "    </tr>\n",
       "    <tr>\n",
       "      <th>3</th>\n",
       "      <td>3.679407</td>\n",
       "      <td>3.561115</td>\n",
       "      <td>1.601945</td>\n",
       "      <td>1.178533</td>\n",
       "    </tr>\n",
       "    <tr>\n",
       "      <th>4</th>\n",
       "      <td>0.408897</td>\n",
       "      <td>1.486988</td>\n",
       "      <td>0.725946</td>\n",
       "      <td>0.973635</td>\n",
       "    </tr>\n",
       "    <tr>\n",
       "      <th>5</th>\n",
       "      <td>0.445636</td>\n",
       "      <td>2.873171</td>\n",
       "      <td>0.495495</td>\n",
       "      <td>0.761709</td>\n",
       "    </tr>\n",
       "  </tbody>\n",
       "</table>\n",
       "</div>"
      ],
      "text/plain": [
       "Stock      AAPL      AMZN      GOOG      MSFT\n",
       "1      1.031420 -0.792357 -1.103673 -4.374316\n",
       "2     -1.060460 -2.372558 -2.186905 -2.963781\n",
       "3      3.679407  3.561115  1.601945  1.178533\n",
       "4      0.408897  1.486988  0.725946  0.973635\n",
       "5      0.445636  2.873171  0.495495  0.761709"
      ]
     },
     "execution_count": 7,
     "metadata": {},
     "output_type": "execute_result"
    }
   ],
   "source": [
    "returns_df = all_stocks[[\"Stock\", \"Daily Return\"]].pivot(columns=\"Stock\", values=\"Daily Return\")\n",
    "returns_df.head()"
   ]
  },
  {
   "cell_type": "markdown",
   "id": "91e5b4d3-ecfc-412e-bb22-4cd29e8e2c69",
   "metadata": {},
   "source": [
    "### Lets start looking at simple risk analysis by plotting the mean vs std dev for each stock"
   ]
  },
  {
   "cell_type": "code",
   "execution_count": 9,
   "id": "c03b8efe-3c9c-4709-9f04-8845ed43ca8d",
   "metadata": {},
   "outputs": [
    {
     "data": {
      "text/html": [
       "<div>\n",
       "<style scoped>\n",
       "    .dataframe tbody tr th:only-of-type {\n",
       "        vertical-align: middle;\n",
       "    }\n",
       "\n",
       "    .dataframe tbody tr th {\n",
       "        vertical-align: top;\n",
       "    }\n",
       "\n",
       "    .dataframe thead th {\n",
       "        text-align: right;\n",
       "    }\n",
       "</style>\n",
       "<table border=\"1\" class=\"dataframe\">\n",
       "  <thead>\n",
       "    <tr style=\"text-align: right;\">\n",
       "      <th></th>\n",
       "      <th>Mean</th>\n",
       "      <th>Std Dev</th>\n",
       "      <th>Stock</th>\n",
       "    </tr>\n",
       "  </thead>\n",
       "  <tbody>\n",
       "    <tr>\n",
       "      <th>0</th>\n",
       "      <td>0.183493</td>\n",
       "      <td>1.257004</td>\n",
       "      <td>AAPL</td>\n",
       "    </tr>\n",
       "    <tr>\n",
       "      <th>1</th>\n",
       "      <td>0.200177</td>\n",
       "      <td>1.928327</td>\n",
       "      <td>GOOG</td>\n",
       "    </tr>\n",
       "    <tr>\n",
       "      <th>2</th>\n",
       "      <td>0.197166</td>\n",
       "      <td>1.582433</td>\n",
       "      <td>MSFT</td>\n",
       "    </tr>\n",
       "    <tr>\n",
       "      <th>3</th>\n",
       "      <td>0.251149</td>\n",
       "      <td>2.080485</td>\n",
       "      <td>AMZN</td>\n",
       "    </tr>\n",
       "  </tbody>\n",
       "</table>\n",
       "</div>"
      ],
      "text/plain": [
       "       Mean   Std Dev Stock\n",
       "0  0.183493  1.257004  AAPL\n",
       "1  0.200177  1.928327  GOOG\n",
       "2  0.197166  1.582433  MSFT\n",
       "3  0.251149  2.080485  AMZN"
      ]
     },
     "execution_count": 9,
     "metadata": {},
     "output_type": "execute_result"
    }
   ],
   "source": [
    "tech_stocks = [\"AAPL\", \"GOOG\", \"MSFT\", \"AMZN\"]\n",
    "# Create a new DataFrame with just the values we want\n",
    "rows = []\n",
    "for ticker in tech_stocks:\n",
    "    rows.append([\n",
    "        returns_df[ticker].mean(),\n",
    "        returns_df[ticker].std(),\n",
    "        ticker])\n",
    "ra_df = DataFrame(rows, columns=[\"Mean\", \"Std Dev\", \"Stock\"])\n",
    "ra_df"
   ]
  },
  {
   "cell_type": "markdown",
   "id": "c86cbb45-7978-4637-8ae2-4b8926d59dcd",
   "metadata": {},
   "source": [
    "### And then plot it"
   ]
  },
  {
   "cell_type": "code",
   "execution_count": 10,
   "id": "31459c1b-514a-4895-a58a-7c92582c5c39",
   "metadata": {},
   "outputs": [
    {
     "data": {
      "text/plain": [
       "<seaborn.axisgrid.FacetGrid at 0x2adfd0154e0>"
      ]
     },
     "execution_count": 10,
     "metadata": {},
     "output_type": "execute_result"
    },
    {
     "data": {
      "image/png": "[encoded data removed]",
      "text/plain": [
       "<Figure size 593x500 with 1 Axes>"
      ]
     },
     "metadata": {},
     "output_type": "display_data"
    }
   ],
   "source": [
    "sns.relplot(data=ra_df, x=\"Mean\", y=\"Std Dev\", hue=\"Stock\", s=100)"
   ]
  },
  {
   "cell_type": "markdown",
   "id": "456e73de-ea34-4375-ba2a-2a3c6852a380",
   "metadata": {},
   "source": [
    "### Not much variation in the mean values, but quite a bit in the standard deviation.\n",
    "### At least for this very simple set, on a _daily_ basis, it looks like Apple is the low-risk, low-reward choice, while Amazon is the high-risk, high-reward"
   ]
  },
  {
   "cell_type": "markdown",
   "id": "23cb43d2-3c04-443f-b14d-40637eda883b",
   "metadata": {},
   "source": [
    "### ----------------------------------------------------------------------------"
   ]
  },
  {
   "cell_type": "markdown",
   "id": "45ed58c4-f743-4d31-98ca-b156b043fbb5",
   "metadata": {},
   "source": [
    "### >>> WORK IN PROGRESS..."
   ]
  },
  {
   "cell_type": "code",
   "execution_count": null,
   "id": "e17be7e3-af61-40ce-b3a8-5b1e9b3b92a7",
   "metadata": {},
   "outputs": [],
   "source": []
  }
 ],
 "metadata": {
  "kernelspec": {
   "display_name": "Python 3 (ipykernel)",
   "language": "python",
   "name": "python3"
  },
  "language_info": {
   "codemirror_mode": {
    "name": "ipython",
    "version": 3
   },
   "file_extension": ".py",
   "mimetype": "text/x-python",
   "name": "python",
   "nbconvert_exporter": "python",
   "pygments_lexer": "ipython3",
   "version": "3.10.8"
  }
 },
 "nbformat": 4,
 "nbformat_minor": 5
}
